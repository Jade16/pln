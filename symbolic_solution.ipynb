{
 "cells": [
  {
   "cell_type": "markdown",
   "id": "e0977a30",
   "metadata": {},
   "source": [
    "# Importando Bibliotecas"
   ]
  },
  {
   "cell_type": "code",
   "execution_count": 1,
   "id": "cc688ca1",
   "metadata": {},
   "outputs": [
    {
     "name": "stdout",
     "output_type": "stream",
     "text": [
      "\u001b[38;5;2m✔ Download and installation successful\u001b[0m\n",
      "You can now load the package via spacy.load('pt_core_news_lg')\n"
     ]
    }
   ],
   "source": [
    "!pip install spacy nltk --quiet\n",
    "!python -m spacy download pt_core_news_lg --quiet"
   ]
  },
  {
   "cell_type": "code",
   "execution_count": null,
   "id": "4c5356e0",
   "metadata": {},
   "outputs": [
    {
     "name": "stderr",
     "output_type": "stream",
     "text": [
      "/home/gustavo-lelli/miniconda3/lib/python3.12/site-packages/tqdm/auto.py:21: TqdmWarning: IProgress not found. Please update jupyter and ipywidgets. See https://ipywidgets.readthedocs.io/en/stable/user_install.html\n",
      "  from .autonotebook import tqdm as notebook_tqdm\n"
     ]
    }
   ],
   "source": [
    "import os\n",
    "import zipfile\n",
    "import glob\n",
    "import pandas as pd\n",
    "import spacy"
   ]
  },
  {
   "cell_type": "markdown",
   "id": "45ac95d8",
   "metadata": {},
   "source": [
    "# Carregando e limpando os dados"
   ]
  },
  {
   "cell_type": "code",
   "execution_count": 3,
   "id": "7167d82f",
   "metadata": {},
   "outputs": [
    {
     "name": "stdout",
     "output_type": "stream",
     "text": [
      "Extração bem-sucedida b2w.csv.zip\n"
     ]
    }
   ],
   "source": [
    "def extracting_dataset():\n",
    "\t# Encontrando o arquivo .zip\n",
    "\tzip_file = glob.glob(\"*.zip\")\n",
    "\tzip_file = zip_file[0]\n",
    "\n",
    "\t# Checa se o arquivo zip existe\n",
    "\tif os.path.exists(os.path.basename(zip_file)):\n",
    "\t\ttry:\n",
    "\t\t\twith zipfile.ZipFile(zip_file, 'r') as zip_ref:\n",
    "\t\t\t\tzip_ref.extractall()\n",
    "\t\t\t\tprint(f\"Extração bem-sucedida {zip_file}\")\n",
    "\t\texcept zipfile.BadZipFile:\n",
    "\t\t\tprint(f\"Erro: {zip_file} não é um arquivo zip.\")\n",
    "\t\texcept Exception as e:\n",
    "\t\t\tprint(f\"Ocorreu um erro durante a extração {zip_file}: {e}\")\n",
    "\telse:\n",
    "\t\tprint(f\"Warning: {zip_file} não encontrado.\")\n",
    "   \n",
    "\tdf = pd.read_csv(zip_file.replace(\".zip\", \"\")) \n",
    "\n",
    "\t# Remove os valores NaN\n",
    "\tdf.dropna(inplace=True)\n",
    "\n",
    "\t# Resetando o índice\n",
    "\tdf.drop(columns=['original_index'], inplace=True)\n",
    "\tdf.reset_index(drop=True, inplace=True)\n",
    "\t# print(df)\n",
    "\n",
    "\t# Criando uma nova coluna com os valores de sentimento\n",
    "\tdf['sentiment'] = df['rating'].apply(lambda x: 'negative' if x in [1, 2] else 'positive' if x in [4, 5] else 'neutral')\n",
    "\tdf.head(10) \n",
    "\n",
    "\treturn df\n",
    "\n",
    "dataset = extracting_dataset()"
   ]
  },
  {
   "cell_type": "code",
   "execution_count": 4,
   "id": "2cfaada3",
   "metadata": {},
   "outputs": [
    {
     "data": {
      "text/html": [
       "<div>\n",
       "<style scoped>\n",
       "    .dataframe tbody tr th:only-of-type {\n",
       "        vertical-align: middle;\n",
       "    }\n",
       "\n",
       "    .dataframe tbody tr th {\n",
       "        vertical-align: top;\n",
       "    }\n",
       "\n",
       "    .dataframe thead th {\n",
       "        text-align: right;\n",
       "    }\n",
       "</style>\n",
       "<table border=\"1\" class=\"dataframe\">\n",
       "  <thead>\n",
       "    <tr style=\"text-align: right;\">\n",
       "      <th></th>\n",
       "      <th>review_text</th>\n",
       "      <th>review_text_processed</th>\n",
       "      <th>review_text_tokenized</th>\n",
       "      <th>polarity</th>\n",
       "      <th>rating</th>\n",
       "      <th>kfold_polarity</th>\n",
       "      <th>kfold_rating</th>\n",
       "      <th>sentiment</th>\n",
       "    </tr>\n",
       "  </thead>\n",
       "  <tbody>\n",
       "    <tr>\n",
       "      <th>0</th>\n",
       "      <td>Bem macio e felpudo...recomendo.  Preço imbatí...</td>\n",
       "      <td>bem macio e felpudo...recomendo.  preco imbati...</td>\n",
       "      <td>['bem', 'macio', 'felpudo', 'recomendo', 'prec...</td>\n",
       "      <td>1.0</td>\n",
       "      <td>4</td>\n",
       "      <td>1</td>\n",
       "      <td>1</td>\n",
       "      <td>positive</td>\n",
       "    </tr>\n",
       "    <tr>\n",
       "      <th>1</th>\n",
       "      <td>Produto excepcional!  recomendo!!! inovador e ...</td>\n",
       "      <td>produto excepcional!  recomendo!!! inovador e ...</td>\n",
       "      <td>['produto', 'excepcional', 'recomendo', 'inova...</td>\n",
       "      <td>1.0</td>\n",
       "      <td>5</td>\n",
       "      <td>1</td>\n",
       "      <td>1</td>\n",
       "      <td>positive</td>\n",
       "    </tr>\n",
       "    <tr>\n",
       "      <th>2</th>\n",
       "      <td>recebi o produto antes do prazo mas veio com d...</td>\n",
       "      <td>recebi o produto antes do prazo mas veio com d...</td>\n",
       "      <td>['recebi', 'produto', 'antes', 'do', 'prazo', ...</td>\n",
       "      <td>0.0</td>\n",
       "      <td>1</td>\n",
       "      <td>1</td>\n",
       "      <td>1</td>\n",
       "      <td>negative</td>\n",
       "    </tr>\n",
       "    <tr>\n",
       "      <th>3</th>\n",
       "      <td>Bom custo beneficio. Adequado para pessoas que...</td>\n",
       "      <td>bom custo beneficio. adequado para pessoas que...</td>\n",
       "      <td>['bom', 'custo', 'beneficio', 'adequado', 'par...</td>\n",
       "      <td>1.0</td>\n",
       "      <td>5</td>\n",
       "      <td>1</td>\n",
       "      <td>1</td>\n",
       "      <td>positive</td>\n",
       "    </tr>\n",
       "    <tr>\n",
       "      <th>4</th>\n",
       "      <td>ótmo produto atendeu as expectativas, a entreg...</td>\n",
       "      <td>otmo produto atendeu as expectativas, a entreg...</td>\n",
       "      <td>['otmo', 'produto', 'atendeu', 'as', 'expectat...</td>\n",
       "      <td>1.0</td>\n",
       "      <td>4</td>\n",
       "      <td>1</td>\n",
       "      <td>1</td>\n",
       "      <td>positive</td>\n",
       "    </tr>\n",
       "  </tbody>\n",
       "</table>\n",
       "</div>"
      ],
      "text/plain": [
       "                                         review_text  \\\n",
       "0  Bem macio e felpudo...recomendo.  Preço imbatí...   \n",
       "1  Produto excepcional!  recomendo!!! inovador e ...   \n",
       "2  recebi o produto antes do prazo mas veio com d...   \n",
       "3  Bom custo beneficio. Adequado para pessoas que...   \n",
       "4  ótmo produto atendeu as expectativas, a entreg...   \n",
       "\n",
       "                               review_text_processed  \\\n",
       "0  bem macio e felpudo...recomendo.  preco imbati...   \n",
       "1  produto excepcional!  recomendo!!! inovador e ...   \n",
       "2  recebi o produto antes do prazo mas veio com d...   \n",
       "3  bom custo beneficio. adequado para pessoas que...   \n",
       "4  otmo produto atendeu as expectativas, a entreg...   \n",
       "\n",
       "                               review_text_tokenized  polarity  rating  \\\n",
       "0  ['bem', 'macio', 'felpudo', 'recomendo', 'prec...       1.0       4   \n",
       "1  ['produto', 'excepcional', 'recomendo', 'inova...       1.0       5   \n",
       "2  ['recebi', 'produto', 'antes', 'do', 'prazo', ...       0.0       1   \n",
       "3  ['bom', 'custo', 'beneficio', 'adequado', 'par...       1.0       5   \n",
       "4  ['otmo', 'produto', 'atendeu', 'as', 'expectat...       1.0       4   \n",
       "\n",
       "   kfold_polarity  kfold_rating sentiment  \n",
       "0               1             1  positive  \n",
       "1               1             1  positive  \n",
       "2               1             1  negative  \n",
       "3               1             1  positive  \n",
       "4               1             1  positive  "
      ]
     },
     "execution_count": 4,
     "metadata": {},
     "output_type": "execute_result"
    }
   ],
   "source": [
    "dataset.head()"
   ]
  },
  {
   "cell_type": "markdown",
   "id": "42861967",
   "metadata": {},
   "source": [
    "# Análise Semântica"
   ]
  },
  {
   "cell_type": "code",
   "execution_count": 5,
   "id": "9ed3d7b3",
   "metadata": {},
   "outputs": [],
   "source": [
    "def analisar_polaridade(texto):\n",
    "\timport requests\n",
    "\turl = \"https://raw.githubusercontent.com/marlovss/OpLexicon/refs/heads/main/OpLexicon.csv\"\n",
    "\tresponse = requests.get(url)\n",
    "\tpalavras_positivas = set()\n",
    "\tpalavras_negativas = set()\n",
    "\n",
    "\tfor line in response.text.split('\\n'):\n",
    "\t\tif line.startswith('#'): continue\n",
    "\t\tkeys = line.split(',')\n",
    "\t\tif len(keys) < 2: continue\n",
    "\t\tword = keys[0]\n",
    "\t\tpol = keys[2]\n",
    "\t\tif pol == '1': palavras_positivas.add(word)\n",
    "\t\telif pol == '-1': palavras_negativas.add(word)\n",
    "\t\n",
    "\tnlp = spacy.load(\"pt_core_news_lg\")\n",
    "\tdoc = nlp(texto)\n",
    "\tscore = 0\n",
    "\n",
    "\timport matplotlib.pyplot as plt\n",
    "\n",
    "\t# Plot das normas dos vetores\n",
    "\twords = [token.text for token in doc]\n",
    "\tnorms = [token.vector_norm for token in doc]\n",
    "\n",
    "\tplt.figure(figsize=(10,5))\n",
    "\tplt.bar(words, norms)\n",
    "\tplt.title(\"Magnitude dos Embeddings (spaCy)\")\n",
    "\tplt.ylabel(\"Norma L2\")\n",
    "\tplt.xticks(rotation=45)\n",
    "\tplt.show()\n",
    "\t\n",
    "\tfor token in doc:\n",
    "\t\t# Verificar palavras-chave\n",
    "\t\tif token.lemma_ in palavras_positivas:\n",
    "\t\t\tscore += token.vector_norm * 0.5\n",
    "\t\telif token.lemma_ in palavras_negativas:\n",
    "\t\t\tscore -= token.vector_norm * 0.5\n",
    "\t\t\n",
    "\t\t# Análise de dependência\n",
    "\t\tif token.dep_ == \"neg\":\n",
    "\t\t\tscore *= -1  # Inverte polaridade\n",
    "\t\n",
    "\treturn [\"positivo\" if score > 2 else \"negativo\" if score < -2 else \"neutro\", score]"
   ]
  },
  {
   "cell_type": "code",
   "execution_count": 18,
   "id": "b8e2068a",
   "metadata": {},
   "outputs": [
    {
     "data": {
      "image/png": "[encoded data removed]",
      "text/plain": [
       "<Figure size 1000x500 with 1 Axes>"
      ]
     },
     "metadata": {},
     "output_type": "display_data"
    },
    {
     "name": "stdout",
     "output_type": "stream",
     "text": [
      "Texto: O céu estava legalzinho, mas ficou feio.\n",
      "Resultado: negativo (Score: -14.131437301635742)\n"
     ]
    }
   ],
   "source": [
    "# Testando a função\n",
    "texto_teste = \"O céu estava legalzinho, mas ficou feio.\"\n",
    "resultado, score = analisar_polaridade(texto_teste)\n",
    "print(f\"Texto: {texto_teste}\\nResultado: {resultado} (Score: {score})\")"
   ]
  }
 ],
 "metadata": {
  "kernelspec": {
   "display_name": "base",
   "language": "python",
   "name": "python3"
  },
  "language_info": {
   "codemirror_mode": {
    "name": "ipython",
    "version": 3
   },
   "file_extension": ".py",
   "mimetype": "text/x-python",
   "name": "python",
   "nbconvert_exporter": "python",
   "pygments_lexer": "ipython3",
   "version": "3.12.9"
  }
 },
 "nbformat": 4,
 "nbformat_minor": 5
}
